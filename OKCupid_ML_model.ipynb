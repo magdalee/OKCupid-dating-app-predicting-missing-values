{
 "cells": [
  {
   "cell_type": "markdown",
   "metadata": {},
   "source": [
    "# OKCupid\n",
    "## Analysing data from a dating application and building a ML model\n",
    "\n",
    "\n",
    "This project is based on a dataset provided by Codecademy.com. It which contains users' profile data from OKCupid - online dating applications. \n",
    "In the app, users create their profiles and fill in their personal data. Some of the categories (e.g. diet, religion) are not obligatory and can be skipped. One of the categories which seems to be skipped quite often is the user's astrological sign. \n",
    "Users from some cultures find astrological signs an important aspect of finding a match. \n",
    "The purpose of the analysis is to answer the following research question: Can OkCupid effectively predict the user's astrological sign  based on other data from their profiles? \n",
    "\n",
    "The project is consists of the following two main parts:\n",
    "1. Exploration of the dataset in search for parameters for the machine learning models. \n",
    "2. Data preparation, creation of the models and testing.\n",
    "\n",
    "The data from on-line dating application OKCupid was provided by Codecademy.com."
   ]
  },
  {
   "cell_type": "markdown",
   "metadata": {},
   "source": [
    "## Importing Python modules and loading the data"
   ]
  },
  {
   "cell_type": "code",
   "execution_count": 1,
   "metadata": {},
   "outputs": [],
   "source": [
    "import pandas as pd\n",
    "import numpy as np\n",
    "from matplotlib import pyplot as plt\n",
    "import seaborn as sns\n",
    "\n",
    "profiles_df = pd.read_csv('profiles.csv')"
   ]
  },
  {
   "cell_type": "markdown",
   "metadata": {},
   "source": [
    "## Exploring and preprocessing the data"
   ]
  },
  {
   "cell_type": "code",
   "execution_count": 2,
   "metadata": {},
   "outputs": [
    {
     "data": {
      "text/html": [
       "<div>\n",
       "<style scoped>\n",
       "    .dataframe tbody tr th:only-of-type {\n",
       "        vertical-align: middle;\n",
       "    }\n",
       "\n",
       "    .dataframe tbody tr th {\n",
       "        vertical-align: top;\n",
       "    }\n",
       "\n",
       "    .dataframe thead th {\n",
       "        text-align: right;\n",
       "    }\n",
       "</style>\n",
       "<table border=\"1\" class=\"dataframe\">\n",
       "  <thead>\n",
       "    <tr style=\"text-align: right;\">\n",
       "      <th></th>\n",
       "      <th>age</th>\n",
       "      <th>body_type</th>\n",
       "      <th>diet</th>\n",
       "      <th>drinks</th>\n",
       "      <th>drugs</th>\n",
       "      <th>education</th>\n",
       "      <th>essay0</th>\n",
       "      <th>essay1</th>\n",
       "      <th>essay2</th>\n",
       "      <th>essay3</th>\n",
       "      <th>...</th>\n",
       "      <th>location</th>\n",
       "      <th>offspring</th>\n",
       "      <th>orientation</th>\n",
       "      <th>pets</th>\n",
       "      <th>religion</th>\n",
       "      <th>sex</th>\n",
       "      <th>sign</th>\n",
       "      <th>smokes</th>\n",
       "      <th>speaks</th>\n",
       "      <th>status</th>\n",
       "    </tr>\n",
       "  </thead>\n",
       "  <tbody>\n",
       "    <tr>\n",
       "      <th>0</th>\n",
       "      <td>22</td>\n",
       "      <td>a little extra</td>\n",
       "      <td>strictly anything</td>\n",
       "      <td>socially</td>\n",
       "      <td>never</td>\n",
       "      <td>working on college/university</td>\n",
       "      <td>about me:&lt;br /&gt;\\n&lt;br /&gt;\\ni would love to think...</td>\n",
       "      <td>currently working as an international agent fo...</td>\n",
       "      <td>making people laugh.&lt;br /&gt;\\nranting about a go...</td>\n",
       "      <td>the way i look. i am a six foot half asian, ha...</td>\n",
       "      <td>...</td>\n",
       "      <td>south san francisco, california</td>\n",
       "      <td>doesn&amp;rsquo;t have kids, but might want them</td>\n",
       "      <td>straight</td>\n",
       "      <td>likes dogs and likes cats</td>\n",
       "      <td>agnosticism and very serious about it</td>\n",
       "      <td>m</td>\n",
       "      <td>gemini</td>\n",
       "      <td>sometimes</td>\n",
       "      <td>english</td>\n",
       "      <td>single</td>\n",
       "    </tr>\n",
       "    <tr>\n",
       "      <th>1</th>\n",
       "      <td>35</td>\n",
       "      <td>average</td>\n",
       "      <td>mostly other</td>\n",
       "      <td>often</td>\n",
       "      <td>sometimes</td>\n",
       "      <td>working on space camp</td>\n",
       "      <td>i am a chef: this is what that means.&lt;br /&gt;\\n1...</td>\n",
       "      <td>dedicating everyday to being an unbelievable b...</td>\n",
       "      <td>being silly. having ridiculous amonts of fun w...</td>\n",
       "      <td>NaN</td>\n",
       "      <td>...</td>\n",
       "      <td>oakland, california</td>\n",
       "      <td>doesn&amp;rsquo;t have kids, but might want them</td>\n",
       "      <td>straight</td>\n",
       "      <td>likes dogs and likes cats</td>\n",
       "      <td>agnosticism but not too serious about it</td>\n",
       "      <td>m</td>\n",
       "      <td>cancer</td>\n",
       "      <td>no</td>\n",
       "      <td>english (fluently), spanish (poorly), french (...</td>\n",
       "      <td>single</td>\n",
       "    </tr>\n",
       "    <tr>\n",
       "      <th>2</th>\n",
       "      <td>38</td>\n",
       "      <td>thin</td>\n",
       "      <td>anything</td>\n",
       "      <td>socially</td>\n",
       "      <td>NaN</td>\n",
       "      <td>graduated from masters program</td>\n",
       "      <td>i'm not ashamed of much, but writing public te...</td>\n",
       "      <td>i make nerdy software for musicians, artists, ...</td>\n",
       "      <td>improvising in different contexts. alternating...</td>\n",
       "      <td>my large jaw and large glasses are the physica...</td>\n",
       "      <td>...</td>\n",
       "      <td>san francisco, california</td>\n",
       "      <td>NaN</td>\n",
       "      <td>straight</td>\n",
       "      <td>has cats</td>\n",
       "      <td>NaN</td>\n",
       "      <td>m</td>\n",
       "      <td>pisces but it doesn&amp;rsquo;t matter</td>\n",
       "      <td>no</td>\n",
       "      <td>english, french, c++</td>\n",
       "      <td>available</td>\n",
       "    </tr>\n",
       "    <tr>\n",
       "      <th>3</th>\n",
       "      <td>23</td>\n",
       "      <td>thin</td>\n",
       "      <td>vegetarian</td>\n",
       "      <td>socially</td>\n",
       "      <td>NaN</td>\n",
       "      <td>working on college/university</td>\n",
       "      <td>i work in a library and go to school. . .</td>\n",
       "      <td>reading things written by old dead people</td>\n",
       "      <td>playing synthesizers and organizing books acco...</td>\n",
       "      <td>socially awkward but i do my best</td>\n",
       "      <td>...</td>\n",
       "      <td>berkeley, california</td>\n",
       "      <td>doesn&amp;rsquo;t want kids</td>\n",
       "      <td>straight</td>\n",
       "      <td>likes cats</td>\n",
       "      <td>NaN</td>\n",
       "      <td>m</td>\n",
       "      <td>pisces</td>\n",
       "      <td>no</td>\n",
       "      <td>english, german (poorly)</td>\n",
       "      <td>single</td>\n",
       "    </tr>\n",
       "    <tr>\n",
       "      <th>4</th>\n",
       "      <td>29</td>\n",
       "      <td>athletic</td>\n",
       "      <td>NaN</td>\n",
       "      <td>socially</td>\n",
       "      <td>never</td>\n",
       "      <td>graduated from college/university</td>\n",
       "      <td>hey how's it going? currently vague on the pro...</td>\n",
       "      <td>work work work work + play</td>\n",
       "      <td>creating imagery to look at:&lt;br /&gt;\\nhttp://bag...</td>\n",
       "      <td>i smile a lot and my inquisitive nature</td>\n",
       "      <td>...</td>\n",
       "      <td>san francisco, california</td>\n",
       "      <td>NaN</td>\n",
       "      <td>straight</td>\n",
       "      <td>likes dogs and likes cats</td>\n",
       "      <td>NaN</td>\n",
       "      <td>m</td>\n",
       "      <td>aquarius</td>\n",
       "      <td>no</td>\n",
       "      <td>english</td>\n",
       "      <td>single</td>\n",
       "    </tr>\n",
       "  </tbody>\n",
       "</table>\n",
       "<p>5 rows × 31 columns</p>\n",
       "</div>"
      ],
      "text/plain": [
       "   age       body_type               diet    drinks      drugs  \\\n",
       "0   22  a little extra  strictly anything  socially      never   \n",
       "1   35         average       mostly other     often  sometimes   \n",
       "2   38            thin           anything  socially        NaN   \n",
       "3   23            thin         vegetarian  socially        NaN   \n",
       "4   29        athletic                NaN  socially      never   \n",
       "\n",
       "                           education  \\\n",
       "0      working on college/university   \n",
       "1              working on space camp   \n",
       "2     graduated from masters program   \n",
       "3      working on college/university   \n",
       "4  graduated from college/university   \n",
       "\n",
       "                                              essay0  \\\n",
       "0  about me:<br />\\n<br />\\ni would love to think...   \n",
       "1  i am a chef: this is what that means.<br />\\n1...   \n",
       "2  i'm not ashamed of much, but writing public te...   \n",
       "3          i work in a library and go to school. . .   \n",
       "4  hey how's it going? currently vague on the pro...   \n",
       "\n",
       "                                              essay1  \\\n",
       "0  currently working as an international agent fo...   \n",
       "1  dedicating everyday to being an unbelievable b...   \n",
       "2  i make nerdy software for musicians, artists, ...   \n",
       "3          reading things written by old dead people   \n",
       "4                         work work work work + play   \n",
       "\n",
       "                                              essay2  \\\n",
       "0  making people laugh.<br />\\nranting about a go...   \n",
       "1  being silly. having ridiculous amonts of fun w...   \n",
       "2  improvising in different contexts. alternating...   \n",
       "3  playing synthesizers and organizing books acco...   \n",
       "4  creating imagery to look at:<br />\\nhttp://bag...   \n",
       "\n",
       "                                              essay3  ...  \\\n",
       "0  the way i look. i am a six foot half asian, ha...  ...   \n",
       "1                                                NaN  ...   \n",
       "2  my large jaw and large glasses are the physica...  ...   \n",
       "3                  socially awkward but i do my best  ...   \n",
       "4            i smile a lot and my inquisitive nature  ...   \n",
       "\n",
       "                          location  \\\n",
       "0  south san francisco, california   \n",
       "1              oakland, california   \n",
       "2        san francisco, california   \n",
       "3             berkeley, california   \n",
       "4        san francisco, california   \n",
       "\n",
       "                                      offspring orientation  \\\n",
       "0  doesn&rsquo;t have kids, but might want them    straight   \n",
       "1  doesn&rsquo;t have kids, but might want them    straight   \n",
       "2                                           NaN    straight   \n",
       "3                       doesn&rsquo;t want kids    straight   \n",
       "4                                           NaN    straight   \n",
       "\n",
       "                        pets                                  religion sex  \\\n",
       "0  likes dogs and likes cats     agnosticism and very serious about it   m   \n",
       "1  likes dogs and likes cats  agnosticism but not too serious about it   m   \n",
       "2                   has cats                                       NaN   m   \n",
       "3                 likes cats                                       NaN   m   \n",
       "4  likes dogs and likes cats                                       NaN   m   \n",
       "\n",
       "                                 sign     smokes  \\\n",
       "0                              gemini  sometimes   \n",
       "1                              cancer         no   \n",
       "2  pisces but it doesn&rsquo;t matter         no   \n",
       "3                              pisces         no   \n",
       "4                            aquarius         no   \n",
       "\n",
       "                                              speaks     status  \n",
       "0                                            english     single  \n",
       "1  english (fluently), spanish (poorly), french (...     single  \n",
       "2                               english, french, c++  available  \n",
       "3                           english, german (poorly)     single  \n",
       "4                                            english     single  \n",
       "\n",
       "[5 rows x 31 columns]"
      ]
     },
     "execution_count": 2,
     "metadata": {},
     "output_type": "execute_result"
    }
   ],
   "source": [
    "profiles_df.head()"
   ]
  },
  {
   "cell_type": "code",
   "execution_count": 3,
   "metadata": {},
   "outputs": [
    {
     "data": {
      "text/plain": [
       "(59946, 31)"
      ]
     },
     "execution_count": 3,
     "metadata": {},
     "output_type": "execute_result"
    }
   ],
   "source": [
    "profiles_df.shape"
   ]
  },
  {
   "cell_type": "markdown",
   "metadata": {},
   "source": [
    "The dataset contains 59946 rows and 31 columns. \n",
    "The columns are listed below."
   ]
  },
  {
   "cell_type": "code",
   "execution_count": 4,
   "metadata": {},
   "outputs": [
    {
     "name": "stdout",
     "output_type": "stream",
     "text": [
      "<class 'pandas.core.frame.DataFrame'>\n",
      "RangeIndex: 59946 entries, 0 to 59945\n",
      "Data columns (total 31 columns):\n",
      " #   Column       Non-Null Count  Dtype  \n",
      "---  ------       --------------  -----  \n",
      " 0   age          59946 non-null  int64  \n",
      " 1   body_type    54650 non-null  object \n",
      " 2   diet         35551 non-null  object \n",
      " 3   drinks       56961 non-null  object \n",
      " 4   drugs        45866 non-null  object \n",
      " 5   education    53318 non-null  object \n",
      " 6   essay0       54458 non-null  object \n",
      " 7   essay1       52374 non-null  object \n",
      " 8   essay2       50308 non-null  object \n",
      " 9   essay3       48470 non-null  object \n",
      " 10  essay4       49409 non-null  object \n",
      " 11  essay5       49096 non-null  object \n",
      " 12  essay6       46175 non-null  object \n",
      " 13  essay7       47495 non-null  object \n",
      " 14  essay8       40721 non-null  object \n",
      " 15  essay9       47343 non-null  object \n",
      " 16  ethnicity    54266 non-null  object \n",
      " 17  height       59943 non-null  float64\n",
      " 18  income       59946 non-null  int64  \n",
      " 19  job          51748 non-null  object \n",
      " 20  last_online  59946 non-null  object \n",
      " 21  location     59946 non-null  object \n",
      " 22  offspring    24385 non-null  object \n",
      " 23  orientation  59946 non-null  object \n",
      " 24  pets         40025 non-null  object \n",
      " 25  religion     39720 non-null  object \n",
      " 26  sex          59946 non-null  object \n",
      " 27  sign         48890 non-null  object \n",
      " 28  smokes       54434 non-null  object \n",
      " 29  speaks       59896 non-null  object \n",
      " 30  status       59946 non-null  object \n",
      "dtypes: float64(1), int64(2), object(28)\n",
      "memory usage: 14.2+ MB\n"
     ]
    }
   ],
   "source": [
    "profiles_df.info()"
   ]
  },
  {
   "cell_type": "markdown",
   "metadata": {},
   "source": [
    "The majority of the 31 variables are categorical variables. Only the following columns contain different data types:\n",
    "\n",
    "- **age** - a discrete numerical variable representing user's age,\n",
    "- **height** - a continuous numerical variable representing user's height,\n",
    "- **income** - a continuous numerical variable representing user's income,\n",
    "- **last_online** - a datetime variable representing the last time the user was available online.\n",
    "\n",
    "The dataset also contains 10 'essay' columns. According to the data source, they contain user's answers to the following questions:\n",
    "\n",
    "- **essay0:** My self summary\n",
    "- **essay1:**  What I’m doing with my life\n",
    "- **essay2:** I’m really good at\n",
    "- **essay3:** The first thing people usually notice about me\n",
    "- **essay4:** Favorite books, movies, show, music, and food\n",
    "- **essay5:** The six things I could never do without\n",
    "- **essay6:** I spend a lot of time thinking about\n",
    "- **essay7:** On a typical Friday night I am\n",
    "- **essay8:** The most private thing I am willing to admit\n",
    "- **essay9:** You should message me if…\n",
    "\n",
    "Although exploring the 'essays' contain a lot of interesting information about the app's users, in this project I will focus on numerical and categorical data. \n",
    "\n",
    "Below, I have a quick look at each of the variables in search for features that I could use in the machine learning model predicting user's sign."
   ]
  },
  {
   "cell_type": "markdown",
   "metadata": {},
   "source": [
    "### Numerical variables: Age, height and income\n",
    "\n",
    "\n",
    "The numerical variables will be visualized with histograms to find out more about the data distribution."
   ]
  },
  {
   "cell_type": "markdown",
   "metadata": {},
   "source": [
    "#### Age"
   ]
  },
  {
   "cell_type": "code",
   "execution_count": 5,
   "metadata": {},
   "outputs": [
    {
     "data": {
      "image/png": "[encoded data removed]",
      "text/plain": [
       "<Figure size 360x360 with 1 Axes>"
      ]
     },
     "metadata": {
      "needs_background": "light"
     },
     "output_type": "display_data"
    }
   ],
   "source": [
    "sns.displot(data=profiles_df, x='age', binwidth = 5, color = 'royalblue');"
   ]
  },
  {
   "cell_type": "markdown",
   "metadata": {},
   "source": [
    "The age plot shows that the majority of users are in their late 20s and early 30s. \n",
    "This data can be examined further by breaking down by gender."
   ]
  },
  {
   "cell_type": "code",
   "execution_count": 6,
   "metadata": {},
   "outputs": [
    {
     "data": {
      "image/png": "[encoded data removed]",
      "text/plain": [
       "<Figure size 405.625x360 with 1 Axes>"
      ]
     },
     "metadata": {
      "needs_background": "light"
     },
     "output_type": "display_data"
    }
   ],
   "source": [
    "sns.displot(data=profiles_df, x='age', hue='sex', binwidth = 5, alpha=0.7, element='step');"
   ]
  },
  {
   "cell_type": "markdown",
   "metadata": {},
   "source": [
    "The graph shows that the majority of users in nearly all age groups are men - with an exception for the oldest users of the app."
   ]
  },
  {
   "cell_type": "markdown",
   "metadata": {},
   "source": [
    "#### Height"
   ]
  },
  {
   "cell_type": "code",
   "execution_count": 7,
   "metadata": {},
   "outputs": [
    {
     "data": {
      "image/png": "[encoded data removed]",
      "text/plain": [
       "<Figure size 360x360 with 1 Axes>"
      ]
     },
     "metadata": {
      "needs_background": "light"
     },
     "output_type": "display_data"
    }
   ],
   "source": [
    "sns.displot(data=profiles_df, x='height', binwidth=2, color = 'royalblue');"
   ]
  },
  {
   "cell_type": "markdown",
   "metadata": {},
   "source": [
    "The histogram shows a normal distribution of height values: the majority of data fits into the 5-6.5 feet range. "
   ]
  },
  {
   "cell_type": "code",
   "execution_count": 8,
   "metadata": {},
   "outputs": [
    {
     "data": {
      "image/png": "[encoded data removed]",
      "text/plain": [
       "<Figure size 405.625x360 with 1 Axes>"
      ]
     },
     "metadata": {
      "needs_background": "light"
     },
     "output_type": "display_data"
    }
   ],
   "source": [
    "# Height broken down by gender\n",
    "\n",
    "sns.displot(data=profiles_df, x='height', hue='sex', binwidth = 5, alpha=0.7, element='step');"
   ]
  },
  {
   "cell_type": "markdown",
   "metadata": {},
   "source": [
    "Just as expected, female users tend to be shorter than male users. "
   ]
  },
  {
   "cell_type": "markdown",
   "metadata": {},
   "source": [
    "#### Income"
   ]
  },
  {
   "cell_type": "code",
   "execution_count": 9,
   "metadata": {},
   "outputs": [
    {
     "data": {
      "image/png": "[encoded data removed]",
      "text/plain": [
       "<Figure size 360x360 with 1 Axes>"
      ]
     },
     "metadata": {
      "needs_background": "light"
     },
     "output_type": "display_data"
    }
   ],
   "source": [
    "sns.displot(profiles_df['income'], binwidth = 25000, color = 'royalblue');"
   ]
  },
  {
   "cell_type": "markdown",
   "metadata": {},
   "source": [
    "The distribution of the  values presented in the histogram is unusual - we can see that the majority of cases fall into the extreme bins - with values around 0 being represented the most. It also seems likely that a lot of app users did not want to reveal their income. For this reason, the values in the 'income' column are explored further below. "
   ]
  },
  {
   "cell_type": "code",
   "execution_count": 10,
   "metadata": {},
   "outputs": [
    {
     "data": {
      "text/plain": [
       "0"
      ]
     },
     "execution_count": 10,
     "metadata": {},
     "output_type": "execute_result"
    }
   ],
   "source": [
    "profiles_df.income.isna().sum()"
   ]
  },
  {
   "cell_type": "code",
   "execution_count": 11,
   "metadata": {},
   "outputs": [
    {
     "data": {
      "text/plain": [
       "array([     -1,   80000,   20000,   40000,   30000,   50000,   60000,\n",
       "       1000000,  150000,  100000,  500000,   70000,  250000], dtype=int64)"
      ]
     },
     "execution_count": 11,
     "metadata": {},
     "output_type": "execute_result"
    }
   ],
   "source": [
    "profiles_df.income.unique()"
   ]
  },
  {
   "cell_type": "code",
   "execution_count": 12,
   "metadata": {},
   "outputs": [
    {
     "data": {
      "text/plain": [
       "-1          48442\n",
       " 20000       2952\n",
       " 100000      1621\n",
       " 80000       1111\n",
       " 30000       1048\n",
       " 40000       1005\n",
       " 50000        975\n",
       " 60000        736\n",
       " 70000        707\n",
       " 150000       631\n",
       " 1000000      521\n",
       " 250000       149\n",
       " 500000        48\n",
       "Name: income, dtype: int64"
      ]
     },
     "execution_count": 12,
     "metadata": {},
     "output_type": "execute_result"
    }
   ],
   "source": [
    "profiles_df.income.value_counts()"
   ]
  },
  {
   "cell_type": "code",
   "execution_count": 13,
   "metadata": {},
   "outputs": [
    {
     "data": {
      "text/plain": [
       "80.80939512227671"
      ]
     },
     "execution_count": 13,
     "metadata": {},
     "output_type": "execute_result"
    }
   ],
   "source": [
    "profiles_df.income.value_counts().to_list()[0]/len(profiles_df) * 100"
   ]
  },
  {
   "cell_type": "markdown",
   "metadata": {},
   "source": [
    "As predicted, more than 80% of users didn't reveal their income. \n",
    "The invalid income value '-1' is replaced with a null value below."
   ]
  },
  {
   "cell_type": "code",
   "execution_count": 14,
   "metadata": {},
   "outputs": [
    {
     "data": {
      "text/plain": [
       "0        NaN\n",
       "1    80000.0\n",
       "2        NaN\n",
       "3    20000.0\n",
       "4        NaN\n",
       "Name: income, dtype: float64"
      ]
     },
     "execution_count": 14,
     "metadata": {},
     "output_type": "execute_result"
    }
   ],
   "source": [
    "profiles_df.income.replace(-1, np.nan, inplace = True)\n",
    "profiles_df.income.head()"
   ]
  },
  {
   "cell_type": "code",
   "execution_count": 15,
   "metadata": {},
   "outputs": [
    {
     "data": {
      "image/png": "[encoded data removed]",
      "text/plain": [
       "<Figure size 360x360 with 1 Axes>"
      ]
     },
     "metadata": {
      "needs_background": "light"
     },
     "output_type": "display_data"
    }
   ],
   "source": [
    "# Updated income plot^^\n",
    "sns.displot(data=profiles_df, x=\"income\", binwidth = 25000);"
   ]
  },
  {
   "cell_type": "code",
   "execution_count": 16,
   "metadata": {},
   "outputs": [
    {
     "data": {
      "image/png": "[encoded data removed]",
      "text/plain": [
       "<Figure size 405.625x360 with 1 Axes>"
      ]
     },
     "metadata": {
      "needs_background": "light"
     },
     "output_type": "display_data"
    }
   ],
   "source": [
    "# Income broken down by gender\n",
    "\n",
    "sns.displot(data=profiles_df, x='income', hue='sex', binwidth = 25000, multiple='dodge');"
   ]
  },
  {
   "cell_type": "markdown",
   "metadata": {},
   "source": [
    "The updated histograms show now more clearly that the income of the majority of users (users who revealed their income) lies below the USD 200,000.00 mark. However, there are also approx. 500 self-reported millionaires among the users who stated their income. "
   ]
  },
  {
   "cell_type": "markdown",
   "metadata": {},
   "source": [
    "### Exploring categorical variables"
   ]
  },
  {
   "cell_type": "markdown",
   "metadata": {},
   "source": [
    "The dataset contains more categorical than numerical variables. To speed up the exploration of each variable, two functions defined below will be used:\n",
    "- function **explore_var** will display a few details about the data such as counts and number of the unique vaues as well as the number of missing values and their percentage,\n",
    "- function **plot_countplot** will be used to display a countplot for selected categories (in some cases, a different plot, e.g. a pie chart, will be chosen to visualize the data)."
   ]
  },
  {
   "cell_type": "code",
   "execution_count": 17,
   "metadata": {},
   "outputs": [],
   "source": [
    "def explore_var(column_name):\n",
    "\n",
    "    print('Summary data for', column_name, '\\n')\n",
    "           \n",
    "    # show counts\n",
    "    print('Value counts:') \n",
    "    print(profiles_df[column_name].value_counts(), '\\n')\n",
    "    print('Number of unique values: ', profiles_df[column_name].nunique(), '\\n')\n",
    "    print('Number of missing values: ', profiles_df[column_name].isna().sum())\n",
    "    print('Missing values - percent: ',  profiles_df[column_name].isna().sum() / len(profiles_df) * 100)\n",
    "        "
   ]
  },
  {
   "cell_type": "code",
   "execution_count": 18,
   "metadata": {},
   "outputs": [],
   "source": [
    "def plot_countplot(column_name):\n",
    "    ax = sns.countplot(data = profiles_df, x = column_name, palette='Set3')\n",
    "    ax.set_xticklabels(ax.get_xticklabels(), rotation=65)\n",
    "    plt.show()\n",
    "    plt.clf()"
   ]
  },
  {
   "cell_type": "markdown",
   "metadata": {},
   "source": [
    "#### Body type"
   ]
  },
  {
   "cell_type": "code",
   "execution_count": 19,
   "metadata": {},
   "outputs": [
    {
     "name": "stdout",
     "output_type": "stream",
     "text": [
      "Summary data for body_type \n",
      "\n",
      "Value counts:\n",
      "average           14652\n",
      "fit               12711\n",
      "athletic          11819\n",
      "thin               4711\n",
      "curvy              3924\n",
      "a little extra     2629\n",
      "skinny             1777\n",
      "full figured       1009\n",
      "overweight          444\n",
      "jacked              421\n",
      "used up             355\n",
      "rather not say      198\n",
      "Name: body_type, dtype: int64 \n",
      "\n",
      "Number of unique values:  12 \n",
      "\n",
      "Number of missing values:  5296\n",
      "Missing values - percent:  8.834617822707102\n"
     ]
    }
   ],
   "source": [
    "explore_var('body_type')"
   ]
  },
  {
   "cell_type": "code",
   "execution_count": 20,
   "metadata": {},
   "outputs": [
    {
     "data": {
      "image/png": "[encoded data removed]",
      "text/plain": [
       "<Figure size 432x288 with 1 Axes>"
      ]
     },
     "metadata": {
      "needs_background": "light"
     },
     "output_type": "display_data"
    },
    {
     "data": {
      "text/plain": [
       "<Figure size 432x288 with 0 Axes>"
      ]
     },
     "metadata": {},
     "output_type": "display_data"
    }
   ],
   "source": [
    "plot_countplot('body_type')"
   ]
  },
  {
   "cell_type": "code",
   "execution_count": 21,
   "metadata": {},
   "outputs": [
    {
     "name": "stdout",
     "output_type": "stream",
     "text": [
      "Summary data for diet \n",
      "\n",
      "Value counts:\n",
      "mostly anything        16585\n",
      "anything                6183\n",
      "strictly anything       5113\n",
      "mostly vegetarian       3444\n",
      "mostly other            1007\n",
      "strictly vegetarian      875\n",
      "vegetarian               667\n",
      "strictly other           452\n",
      "mostly vegan             338\n",
      "other                    331\n",
      "strictly vegan           228\n",
      "vegan                    136\n",
      "mostly kosher             86\n",
      "mostly halal              48\n",
      "strictly halal            18\n",
      "strictly kosher           18\n",
      "halal                     11\n",
      "kosher                    11\n",
      "Name: diet, dtype: int64 \n",
      "\n",
      "Number of unique values:  18 \n",
      "\n",
      "Number of missing values:  24395\n",
      "Missing values - percent:  40.694958796249956\n"
     ]
    }
   ],
   "source": [
    "explore_var('diet')"
   ]
  },
  {
   "cell_type": "markdown",
   "metadata": {},
   "source": [
    "It is important to note that as many as 40% of users skipped the question about their diet. If this feature is selected for machine learning, dropping null values will significantly reduce the input values - there will be less data available to train and test the model. \n",
    "It also seems to make sense to simplify the data in this column and reduce the number of values by combining the related ones such as 'strictly vegan', 'mostly vegan' and 'vegan'."
   ]
  },
  {
   "cell_type": "code",
   "execution_count": 22,
   "metadata": {},
   "outputs": [
    {
     "name": "stdout",
     "output_type": "stream",
     "text": [
      "Number of diet types after simplification: 6\n",
      "Unique values in the column 'diet_simpl': \n",
      " ['anything', 'other', 'vegetarian', nan, 'vegan', 'halal', 'kosher']\n"
     ]
    }
   ],
   "source": [
    "profiles_df['diet_simpl'] = profiles_df.diet.str.split().str.get(-1)\n",
    "\n",
    "print('Number of diet types after simplification:', profiles_df.diet_simpl.nunique())\n",
    "print('Unique values in the column \\'diet_simpl\\': \\n', profiles_df.diet_simpl.unique().tolist())"
   ]
  },
  {
   "cell_type": "code",
   "execution_count": 23,
   "metadata": {},
   "outputs": [
    {
     "data": {
      "image/png": "[encoded data removed]",
      "text/plain": [
       "<Figure size 432x288 with 1 Axes>"
      ]
     },
     "metadata": {
      "needs_background": "light"
     },
     "output_type": "display_data"
    },
    {
     "data": {
      "text/plain": [
       "<Figure size 432x288 with 0 Axes>"
      ]
     },
     "metadata": {},
     "output_type": "display_data"
    }
   ],
   "source": [
    "plot_countplot('diet_simpl')"
   ]
  },
  {
   "cell_type": "code",
   "execution_count": 24,
   "metadata": {},
   "outputs": [
    {
     "name": "stdout",
     "output_type": "stream",
     "text": [
      "Summary data for drinks \n",
      "\n",
      "Value counts:\n",
      "socially       41780\n",
      "rarely          5957\n",
      "often           5164\n",
      "not at all      3267\n",
      "very often       471\n",
      "desperately      322\n",
      "Name: drinks, dtype: int64 \n",
      "\n",
      "Number of unique values:  6 \n",
      "\n",
      "Number of missing values:  2985\n",
      "Missing values - percent:  4.979481533380041\n"
     ]
    }
   ],
   "source": [
    "explore_var('drinks')"
   ]
  },
  {
   "cell_type": "code",
   "execution_count": 25,
   "metadata": {},
   "outputs": [
    {
     "data": {
      "image/png": "[encoded data removed]",
      "text/plain": [
       "<Figure size 432x288 with 1 Axes>"
      ]
     },
     "metadata": {
      "needs_background": "light"
     },
     "output_type": "display_data"
    },
    {
     "data": {
      "text/plain": [
       "<Figure size 432x288 with 0 Axes>"
      ]
     },
     "metadata": {},
     "output_type": "display_data"
    }
   ],
   "source": [
    "plot_countplot('drinks')"
   ]
  },
  {
   "cell_type": "code",
   "execution_count": 26,
   "metadata": {},
   "outputs": [
    {
     "name": "stdout",
     "output_type": "stream",
     "text": [
      "Summary data for drugs \n",
      "\n",
      "Value counts:\n",
      "never        37724\n",
      "sometimes     7732\n",
      "often          410\n",
      "Name: drugs, dtype: int64 \n",
      "\n",
      "Number of unique values:  3 \n",
      "\n",
      "Number of missing values:  14080\n",
      "Missing values - percent:  23.487805691789276\n"
     ]
    }
   ],
   "source": [
    "explore_var('drugs')"
   ]
  },
  {
   "cell_type": "code",
   "execution_count": 27,
   "metadata": {},
   "outputs": [
    {
     "data": {
      "image/png": "[encoded data removed]",
      "text/plain": [
       "<Figure size 432x288 with 1 Axes>"
      ]
     },
     "metadata": {
      "needs_background": "light"
     },
     "output_type": "display_data"
    },
    {
     "data": {
      "text/plain": [
       "<Figure size 432x288 with 0 Axes>"
      ]
     },
     "metadata": {},
     "output_type": "display_data"
    }
   ],
   "source": [
    "plot_countplot('drugs')"
   ]
  },
  {
   "cell_type": "code",
   "execution_count": 28,
   "metadata": {},
   "outputs": [
    {
     "name": "stdout",
     "output_type": "stream",
     "text": [
      "Summary data for education \n",
      "\n",
      "Value counts:\n",
      "graduated from college/university    23959\n",
      "graduated from masters program        8961\n",
      "working on college/university         5712\n",
      "working on masters program            1683\n",
      "graduated from two-year college       1531\n",
      "graduated from high school            1428\n",
      "graduated from ph.d program           1272\n",
      "graduated from law school             1122\n",
      "working on two-year college           1074\n",
      "dropped out of college/university      995\n",
      "working on ph.d program                983\n",
      "college/university                     801\n",
      "graduated from space camp              657\n",
      "dropped out of space camp              523\n",
      "graduated from med school              446\n",
      "working on space camp                  445\n",
      "working on law school                  269\n",
      "two-year college                       222\n",
      "working on med school                  212\n",
      "dropped out of two-year college        191\n",
      "dropped out of masters program         140\n",
      "masters program                        136\n",
      "dropped out of ph.d program            127\n",
      "dropped out of high school             102\n",
      "high school                             96\n",
      "working on high school                  87\n",
      "space camp                              58\n",
      "ph.d program                            26\n",
      "law school                              19\n",
      "dropped out of law school               18\n",
      "dropped out of med school               12\n",
      "med school                              11\n",
      "Name: education, dtype: int64 \n",
      "\n",
      "Number of unique values:  32 \n",
      "\n",
      "Number of missing values:  6628\n",
      "Missing values - percent:  11.05661762252694\n"
     ]
    }
   ],
   "source": [
    "explore_var('education')"
   ]
  },
  {
   "cell_type": "code",
   "execution_count": 29,
   "metadata": {},
   "outputs": [
    {
     "data": {
      "image/png": "[encoded data removed]",
      "text/plain": [
       "<Figure size 576x648 with 1 Axes>"
      ]
     },
     "metadata": {
      "needs_background": "light"
     },
     "output_type": "display_data"
    }
   ],
   "source": [
    "plt.figure(figsize=(8,9))\n",
    "sns.countplot(data = profiles_df, y = 'education', palette='Set3');"
   ]
  },
  {
   "cell_type": "code",
   "execution_count": 30,
   "metadata": {},
   "outputs": [
    {
     "name": "stdout",
     "output_type": "stream",
     "text": [
      "Summary data for ethnicity \n",
      "\n",
      "Value counts:\n",
      "white                                                                 32831\n",
      "asian                                                                  6134\n",
      "hispanic / latin                                                       2823\n",
      "black                                                                  2008\n",
      "other                                                                  1706\n",
      "                                                                      ...  \n",
      "middle eastern, indian, white                                             1\n",
      "asian, middle eastern, black, white, other                                1\n",
      "asian, middle eastern, indian, hispanic / latin, white, other             1\n",
      "black, native american, indian, pacific islander, hispanic / latin        1\n",
      "asian, black, indian                                                      1\n",
      "Name: ethnicity, Length: 217, dtype: int64 \n",
      "\n",
      "Number of unique values:  217 \n",
      "\n",
      "Number of missing values:  5680\n",
      "Missing values - percent:  9.475194341574083\n"
     ]
    }
   ],
   "source": [
    "explore_var('ethnicity')"
   ]
  },
  {
   "cell_type": "code",
   "execution_count": 31,
   "metadata": {},
   "outputs": [
    {
     "name": "stdout",
     "output_type": "stream",
     "text": [
      "Summary data for job \n",
      "\n",
      "Value counts:\n",
      "other                                7589\n",
      "student                              4882\n",
      "science / tech / engineering         4848\n",
      "computer / hardware / software       4709\n",
      "artistic / musical / writer          4439\n",
      "sales / marketing / biz dev          4391\n",
      "medicine / health                    3680\n",
      "education / academia                 3513\n",
      "executive / management               2373\n",
      "banking / financial / real estate    2266\n",
      "entertainment / media                2250\n",
      "law / legal services                 1381\n",
      "hospitality / travel                 1364\n",
      "construction / craftsmanship         1021\n",
      "clerical / administrative             805\n",
      "political / government                708\n",
      "rather not say                        436\n",
      "transportation                        366\n",
      "unemployed                            273\n",
      "retired                               250\n",
      "military                              204\n",
      "Name: job, dtype: int64 \n",
      "\n",
      "Number of unique values:  21 \n",
      "\n",
      "Number of missing values:  8198\n",
      "Missing values - percent:  13.675641410602877\n"
     ]
    }
   ],
   "source": [
    "explore_var('job')"
   ]
  },
  {
   "cell_type": "code",
   "execution_count": 32,
   "metadata": {},
   "outputs": [
    {
     "data": {
      "image/png": "[encoded data removed]",
      "text/plain": [
       "<Figure size 576x648 with 1 Axes>"
      ]
     },
     "metadata": {
      "needs_background": "light"
     },
     "output_type": "display_data"
    }
   ],
   "source": [
    "plt.figure(figsize=(8,9))\n",
    "sns.countplot(data = profiles_df, y = 'job', palette='Set3');"
   ]
  },
  {
   "cell_type": "code",
   "execution_count": 33,
   "metadata": {},
   "outputs": [
    {
     "name": "stdout",
     "output_type": "stream",
     "text": [
      "Summary data for location \n",
      "\n",
      "Value counts:\n",
      "san francisco, california         31064\n",
      "oakland, california                7214\n",
      "berkeley, california               4212\n",
      "san mateo, california              1331\n",
      "palo alto, california              1064\n",
      "                                  ...  \n",
      "south wellfleet, massachusetts        1\n",
      "orange, california                    1\n",
      "astoria, new york                     1\n",
      "london, united kingdom                1\n",
      "rochester, michigan                   1\n",
      "Name: location, Length: 199, dtype: int64 \n",
      "\n",
      "Number of unique values:  199 \n",
      "\n",
      "Number of missing values:  0\n",
      "Missing values - percent:  0.0\n"
     ]
    }
   ],
   "source": [
    "explore_var('location')"
   ]
  },
  {
   "cell_type": "code",
   "execution_count": 34,
   "metadata": {},
   "outputs": [
    {
     "name": "stdout",
     "output_type": "stream",
     "text": [
      "Summary data for offspring \n",
      "\n",
      "Value counts:\n",
      "doesn&rsquo;t have kids                                7560\n",
      "doesn&rsquo;t have kids, but might want them           3875\n",
      "doesn&rsquo;t have kids, but wants them                3565\n",
      "doesn&rsquo;t want kids                                2927\n",
      "has kids                                               1883\n",
      "has a kid                                              1881\n",
      "doesn&rsquo;t have kids, and doesn&rsquo;t want any    1132\n",
      "has kids, but doesn&rsquo;t want more                   442\n",
      "has a kid, but doesn&rsquo;t want more                  275\n",
      "has a kid, and might want more                          231\n",
      "wants kids                                              225\n",
      "might want kids                                         182\n",
      "has kids, and might want more                           115\n",
      "has a kid, and wants more                                71\n",
      "has kids, and wants more                                 21\n",
      "Name: offspring, dtype: int64 \n",
      "\n",
      "Number of unique values:  15 \n",
      "\n",
      "Number of missing values:  35561\n",
      "Missing values - percent:  59.32172288392887\n"
     ]
    }
   ],
   "source": [
    "explore_var('offspring')"
   ]
  },
  {
   "cell_type": "code",
   "execution_count": 35,
   "metadata": {},
   "outputs": [
    {
     "name": "stdout",
     "output_type": "stream",
     "text": [
      "Summary data for orientation \n",
      "\n",
      "Value counts:\n",
      "straight    51606\n",
      "gay          5573\n",
      "bisexual     2767\n",
      "Name: orientation, dtype: int64 \n",
      "\n",
      "Number of unique values:  3 \n",
      "\n",
      "Number of missing values:  0\n",
      "Missing values - percent:  0.0\n"
     ]
    }
   ],
   "source": [
    "explore_var('orientation')"
   ]
  },
  {
   "cell_type": "code",
   "execution_count": 36,
   "metadata": {},
   "outputs": [
    {
     "data": {
      "image/png": "[encoded data removed]",
      "text/plain": [
       "<Figure size 432x288 with 1 Axes>"
      ]
     },
     "metadata": {},
     "output_type": "display_data"
    },
    {
     "data": {
      "text/plain": [
       "<Figure size 432x288 with 0 Axes>"
      ]
     },
     "metadata": {},
     "output_type": "display_data"
    }
   ],
   "source": [
    "values_list = list(profiles_df.orientation.value_counts())\n",
    "labels = profiles_df.orientation.value_counts().index.tolist()\n",
    "\n",
    "plt.pie(values_list, labels = labels, autopct='%0.1f%%')\n",
    "plt.axis('equal')\n",
    "plt.title('Orientation')\n",
    "plt.show()\n",
    "plt.clf()"
   ]
  },
  {
   "cell_type": "code",
   "execution_count": 37,
   "metadata": {},
   "outputs": [
    {
     "name": "stdout",
     "output_type": "stream",
     "text": [
      "Summary data for pets \n",
      "\n",
      "Value counts:\n",
      "likes dogs and likes cats          14814\n",
      "likes dogs                          7224\n",
      "likes dogs and has cats             4313\n",
      "has dogs                            4134\n",
      "has dogs and likes cats             2333\n",
      "likes dogs and dislikes cats        2029\n",
      "has dogs and has cats               1474\n",
      "has cats                            1406\n",
      "likes cats                          1063\n",
      "has dogs and dislikes cats           552\n",
      "dislikes dogs and likes cats         240\n",
      "dislikes dogs and dislikes cats      196\n",
      "dislikes cats                        122\n",
      "dislikes dogs and has cats            81\n",
      "dislikes dogs                         44\n",
      "Name: pets, dtype: int64 \n",
      "\n",
      "Number of unique values:  15 \n",
      "\n",
      "Number of missing values:  19921\n",
      "Missing values - percent:  33.231575084242486\n"
     ]
    }
   ],
   "source": [
    "explore_var('pets')"
   ]
  },
  {
   "cell_type": "markdown",
   "metadata": {},
   "source": [
    "Approximately every third user skipped the question about their favourite pets. Selecting this feature for the model and dropping the null values will reduce the data available for training and testing. "
   ]
  },
  {
   "cell_type": "code",
   "execution_count": 38,
   "metadata": {},
   "outputs": [
    {
     "name": "stdout",
     "output_type": "stream",
     "text": [
      "Summary data for religion \n",
      "\n",
      "Value counts:\n",
      "agnosticism                                   2724\n",
      "other                                         2691\n",
      "agnosticism but not too serious about it      2636\n",
      "agnosticism and laughing about it             2496\n",
      "catholicism but not too serious about it      2318\n",
      "atheism                                       2175\n",
      "other and laughing about it                   2119\n",
      "atheism and laughing about it                 2074\n",
      "christianity                                  1957\n",
      "christianity but not too serious about it     1952\n",
      "other but not too serious about it            1554\n",
      "judaism but not too serious about it          1517\n",
      "atheism but not too serious about it          1318\n",
      "catholicism                                   1064\n",
      "christianity and somewhat serious about it     927\n",
      "atheism and somewhat serious about it          848\n",
      "other and somewhat serious about it            846\n",
      "catholicism and laughing about it              726\n",
      "judaism and laughing about it                  681\n",
      "buddhism but not too serious about it          650\n",
      "agnosticism and somewhat serious about it      642\n",
      "judaism                                        612\n",
      "christianity and very serious about it         578\n",
      "atheism and very serious about it              570\n",
      "catholicism and somewhat serious about it      548\n",
      "other and very serious about it                533\n",
      "buddhism and laughing about it                 466\n",
      "buddhism                                       403\n",
      "christianity and laughing about it             373\n",
      "buddhism and somewhat serious about it         359\n",
      "agnosticism and very serious about it          314\n",
      "judaism and somewhat serious about it          266\n",
      "hinduism but not too serious about it          227\n",
      "hinduism                                       107\n",
      "catholicism and very serious about it          102\n",
      "buddhism and very serious about it              70\n",
      "hinduism and somewhat serious about it          58\n",
      "islam                                           48\n",
      "hinduism and laughing about it                  44\n",
      "islam but not too serious about it              40\n",
      "judaism and very serious about it               22\n",
      "islam and somewhat serious about it             22\n",
      "islam and laughing about it                     16\n",
      "hinduism and very serious about it              14\n",
      "islam and very serious about it                 13\n",
      "Name: religion, dtype: int64 \n",
      "\n",
      "Number of unique values:  45 \n",
      "\n",
      "Number of missing values:  20226\n",
      "Missing values - percent:  33.74036632969673\n"
     ]
    }
   ],
   "source": [
    "explore_var('religion')"
   ]
  },
  {
   "cell_type": "markdown",
   "metadata": {},
   "source": [
    "Similarly to the pet category, approximately one third of the users did not reveal their religion. \n",
    "It seems to be possible to reduce the large number of unique values (45) by combining the related values. "
   ]
  },
  {
   "cell_type": "code",
   "execution_count": 39,
   "metadata": {},
   "outputs": [
    {
     "name": "stdout",
     "output_type": "stream",
     "text": [
      "Number of religions after cleaning: 9\n",
      "Unique values in the column 'religion_simpl': \n",
      " ['agnosticism', nan, 'atheism', 'christianity', 'other', 'catholicism', 'buddhism', 'judaism', 'hinduism', 'islam']\n"
     ]
    }
   ],
   "source": [
    "profiles_df['religion_simpl'] = profiles_df.religion.str.split().str.get(0)\n",
    "\n",
    "print('Number of religions after cleaning:', profiles_df.religion_simpl.nunique())\n",
    "print('Unique values in the column \\'religion_simpl\\': \\n', profiles_df.religion_simpl.unique().tolist())"
   ]
  },
  {
   "cell_type": "code",
   "execution_count": 40,
   "metadata": {},
   "outputs": [
    {
     "data": {
      "image/png": "[encoded data removed]",
      "text/plain": [
       "<Figure size 432x288 with 1 Axes>"
      ]
     },
     "metadata": {
      "needs_background": "light"
     },
     "output_type": "display_data"
    },
    {
     "data": {
      "text/plain": [
       "<Figure size 432x288 with 0 Axes>"
      ]
     },
     "metadata": {},
     "output_type": "display_data"
    }
   ],
   "source": [
    "plot_countplot('religion_simpl')"
   ]
  },
  {
   "cell_type": "code",
   "execution_count": 41,
   "metadata": {},
   "outputs": [
    {
     "name": "stdout",
     "output_type": "stream",
     "text": [
      "Summary data for sex \n",
      "\n",
      "Value counts:\n",
      "m    35829\n",
      "f    24117\n",
      "Name: sex, dtype: int64 \n",
      "\n",
      "Number of unique values:  2 \n",
      "\n",
      "Number of missing values:  0\n",
      "Missing values - percent:  0.0\n"
     ]
    }
   ],
   "source": [
    "explore_var('sex')"
   ]
  },
  {
   "cell_type": "code",
   "execution_count": 42,
   "metadata": {},
   "outputs": [
    {
     "data": {
      "image/png": "[encoded data removed]",
      "text/plain": [
       "<Figure size 432x288 with 1 Axes>"
      ]
     },
     "metadata": {},
     "output_type": "display_data"
    },
    {
     "data": {
      "text/plain": [
       "<Figure size 432x288 with 0 Axes>"
      ]
     },
     "metadata": {},
     "output_type": "display_data"
    }
   ],
   "source": [
    "values_list = list(profiles_df.sex.value_counts())\n",
    "labels = ['male', 'female']\n",
    "plt.pie(values_list, labels = labels, autopct='%0.1f%%')\n",
    "plt.axis('equal')\n",
    "plt.title('Gender')\n",
    "plt.show()\n",
    "plt.clf()"
   ]
  },
  {
   "cell_type": "markdown",
   "metadata": {},
   "source": [
    "As shown earlier, men constitute the majority of app users. "
   ]
  },
  {
   "cell_type": "code",
   "execution_count": 43,
   "metadata": {},
   "outputs": [
    {
     "name": "stdout",
     "output_type": "stream",
     "text": [
      "Summary data for sign \n",
      "\n",
      "Value counts:\n",
      "gemini and it&rsquo;s fun to think about         1782\n",
      "scorpio and it&rsquo;s fun to think about        1772\n",
      "leo and it&rsquo;s fun to think about            1692\n",
      "libra and it&rsquo;s fun to think about          1649\n",
      "taurus and it&rsquo;s fun to think about         1640\n",
      "cancer and it&rsquo;s fun to think about         1597\n",
      "pisces and it&rsquo;s fun to think about         1592\n",
      "sagittarius and it&rsquo;s fun to think about    1583\n",
      "virgo and it&rsquo;s fun to think about          1574\n",
      "aries and it&rsquo;s fun to think about          1573\n",
      "aquarius and it&rsquo;s fun to think about       1503\n",
      "virgo but it doesn&rsquo;t matter                1497\n",
      "leo but it doesn&rsquo;t matter                  1457\n",
      "cancer but it doesn&rsquo;t matter               1454\n",
      "gemini but it doesn&rsquo;t matter               1453\n",
      "taurus but it doesn&rsquo;t matter               1450\n",
      "libra but it doesn&rsquo;t matter                1408\n",
      "aquarius but it doesn&rsquo;t matter             1408\n",
      "capricorn and it&rsquo;s fun to think about      1376\n",
      "sagittarius but it doesn&rsquo;t matter          1375\n",
      "aries but it doesn&rsquo;t matter                1373\n",
      "capricorn but it doesn&rsquo;t matter            1319\n",
      "pisces but it doesn&rsquo;t matter               1300\n",
      "scorpio but it doesn&rsquo;t matter              1264\n",
      "leo                                              1159\n",
      "libra                                            1098\n",
      "cancer                                           1092\n",
      "virgo                                            1029\n",
      "scorpio                                          1020\n",
      "gemini                                           1013\n",
      "taurus                                           1001\n",
      "aries                                             996\n",
      "pisces                                            992\n",
      "aquarius                                          954\n",
      "sagittarius                                       937\n",
      "capricorn                                         833\n",
      "scorpio and it matters a lot                       78\n",
      "leo and it matters a lot                           66\n",
      "cancer and it matters a lot                        63\n",
      "aquarius and it matters a lot                      63\n",
      "pisces and it matters a lot                        62\n",
      "gemini and it matters a lot                        62\n",
      "libra and it matters a lot                         52\n",
      "taurus and it matters a lot                        49\n",
      "aries and it matters a lot                         47\n",
      "sagittarius and it matters a lot                   47\n",
      "capricorn and it matters a lot                     45\n",
      "virgo and it matters a lot                         41\n",
      "Name: sign, dtype: int64 \n",
      "\n",
      "Number of unique values:  48 \n",
      "\n",
      "Number of missing values:  11056\n",
      "Missing values - percent:  18.443265605711805\n"
     ]
    }
   ],
   "source": [
    "explore_var('sign')"
   ]
  },
  {
   "cell_type": "markdown",
   "metadata": {},
   "source": [
    "As discussed earlier, the astrological sign is one of the categories that is skipped by a number of users when completing their profile: 18% of users do not include this information. \n",
    "For the purpose of the model, the number of unique values (48) will be reduced to 12 (which is the actual number of signs). "
   ]
  },
  {
   "cell_type": "code",
   "execution_count": 44,
   "metadata": {},
   "outputs": [
    {
     "name": "stdout",
     "output_type": "stream",
     "text": [
      "Number of signs after cleaning: 12\n",
      "Unique values in the column 'sign_simpl': \n",
      " ['gemini', 'cancer', 'pisces', 'aquarius', 'taurus', 'virgo', 'sagittarius', 'leo', nan, 'aries', 'libra', 'scorpio', 'capricorn']\n"
     ]
    }
   ],
   "source": [
    "profiles_df['sign_simpl'] = profiles_df.sign.str.split().str.get(0)\n",
    "\n",
    "print('Number of signs after cleaning:', profiles_df.sign_simpl.nunique())\n",
    "print('Unique values in the column \\'sign_simpl\\': \\n', profiles_df.sign_simpl.unique().tolist())"
   ]
  },
  {
   "cell_type": "code",
   "execution_count": 45,
   "metadata": {},
   "outputs": [
    {
     "data": {
      "image/png": "[encoded data removed]",
      "text/plain": [
       "<Figure size 432x288 with 1 Axes>"
      ]
     },
     "metadata": {
      "needs_background": "light"
     },
     "output_type": "display_data"
    },
    {
     "data": {
      "text/plain": [
       "<Figure size 432x288 with 0 Axes>"
      ]
     },
     "metadata": {},
     "output_type": "display_data"
    }
   ],
   "source": [
    "plot_countplot('sign_simpl')"
   ]
  },
  {
   "cell_type": "markdown",
   "metadata": {},
   "source": [
    "The plot shows that the signs are distributed more or less evenly, which means there is no problem of label imbalance.\n",
    "The most frequent sign is leo and the least represented one is capricorn. "
   ]
  },
  {
   "cell_type": "code",
   "execution_count": 46,
   "metadata": {},
   "outputs": [
    {
     "name": "stdout",
     "output_type": "stream",
     "text": [
      "Summary data for smokes \n",
      "\n",
      "Value counts:\n",
      "no                43896\n",
      "sometimes          3787\n",
      "when drinking      3040\n",
      "yes                2231\n",
      "trying to quit     1480\n",
      "Name: smokes, dtype: int64 \n",
      "\n",
      "Number of unique values:  5 \n",
      "\n",
      "Number of missing values:  5512\n",
      "Missing values - percent:  9.194942114569779\n"
     ]
    }
   ],
   "source": [
    "explore_var('smokes')"
   ]
  },
  {
   "cell_type": "code",
   "execution_count": 47,
   "metadata": {},
   "outputs": [
    {
     "data": {
      "image/png": "[encoded data removed]",
      "text/plain": [
       "<Figure size 432x288 with 1 Axes>"
      ]
     },
     "metadata": {},
     "output_type": "display_data"
    },
    {
     "data": {
      "text/plain": [
       "<Figure size 432x288 with 0 Axes>"
      ]
     },
     "metadata": {},
     "output_type": "display_data"
    }
   ],
   "source": [
    "values_list = list(profiles_df.smokes.value_counts())\n",
    "labels = profiles_df.smokes.value_counts().index.tolist()\n",
    "plt.pie(values_list, labels = labels, autopct='%0.1f%%')\n",
    "plt.axis('equal')\n",
    "plt.title('Smoking')\n",
    "plt.show()\n",
    "plt.clf()"
   ]
  },
  {
   "cell_type": "code",
   "execution_count": 48,
   "metadata": {},
   "outputs": [
    {
     "name": "stdout",
     "output_type": "stream",
     "text": [
      "Summary data for speaks \n",
      "\n",
      "Value counts:\n",
      "english                                                                21828\n",
      "english (fluently)                                                      6628\n",
      "english (fluently), spanish (poorly)                                    2059\n",
      "english (fluently), spanish (okay)                                      1917\n",
      "english (fluently), spanish (fluently)                                  1288\n",
      "                                                                       ...  \n",
      "english (fluently), urdu (poorly), japanese (poorly), french (okay)        1\n",
      "english, spanish, hindi, c++                                               1\n",
      "english (fluently), japanese (okay), thai (okay), chinese (poorly)         1\n",
      "english (fluently), french (okay), italian (okay), hebrew (okay)           1\n",
      "english (fluently), french, farsi                                          1\n",
      "Name: speaks, Length: 7647, dtype: int64 \n",
      "\n",
      "Number of unique values:  7647 \n",
      "\n",
      "Number of missing values:  50\n",
      "Missing values - percent:  0.08340840089413805\n"
     ]
    }
   ],
   "source": [
    "explore_var('speaks')"
   ]
  },
  {
   "cell_type": "code",
   "execution_count": 49,
   "metadata": {},
   "outputs": [
    {
     "name": "stdout",
     "output_type": "stream",
     "text": [
      "Summary data for status \n",
      "\n",
      "Value counts:\n",
      "single            55697\n",
      "seeing someone     2064\n",
      "available          1865\n",
      "married             310\n",
      "unknown              10\n",
      "Name: status, dtype: int64 \n",
      "\n",
      "Number of unique values:  5 \n",
      "\n",
      "Number of missing values:  0\n",
      "Missing values - percent:  0.0\n"
     ]
    }
   ],
   "source": [
    "explore_var('status')"
   ]
  },
  {
   "cell_type": "code",
   "execution_count": 50,
   "metadata": {},
   "outputs": [
    {
     "data": {
      "image/png": "[encoded data removed]",
      "text/plain": [
       "<Figure size 576x720 with 1 Axes>"
      ]
     },
     "metadata": {},
     "output_type": "display_data"
    },
    {
     "data": {
      "text/plain": [
       "<Figure size 432x288 with 0 Axes>"
      ]
     },
     "metadata": {},
     "output_type": "display_data"
    }
   ],
   "source": [
    "values_list = list(profiles_df.status.value_counts())\n",
    "labels = profiles_df.status.value_counts().index.tolist()\n",
    "explode = [0, 0.3, 0.3, 0.3, 0.1]\n",
    "\n",
    "plt.figure(figsize=(8, 10))\n",
    "plt.pie(values_list, explode = explode, autopct='%0.2f%%', pctdistance = 1.2)\n",
    "plt.axis('equal')\n",
    "plt.legend(labels, fontsize = 12, loc='best')\n",
    "\n",
    "plt.title('Status')\n",
    "\n",
    "plt.show()\n",
    "plt.clf()"
   ]
  },
  {
   "cell_type": "markdown",
   "metadata": {},
   "source": [
    "As predicted, the majority of the dating app users are single. "
   ]
  },
  {
   "cell_type": "markdown",
   "metadata": {},
   "source": [
    "## Building and evaluating models"
   ]
  },
  {
   "cell_type": "markdown",
   "metadata": {},
   "source": [
    "### Preparing the data"
   ]
  },
  {
   "cell_type": "markdown",
   "metadata": {},
   "source": [
    "Below, a number of features is selected which combined may be predictors of astronomical signs. The selection can be updated at a later stage to fine tune the model and increase its reliability. "
   ]
  },
  {
   "cell_type": "code",
   "execution_count": 51,
   "metadata": {},
   "outputs": [
    {
     "data": {
      "text/plain": [
       "(59946, 8)"
      ]
     },
     "execution_count": 51,
     "metadata": {},
     "output_type": "execute_result"
    }
   ],
   "source": [
    "model_columns = ['sign_simpl', 'body_type', 'diet_simpl', 'drinks', 'smokes', 'job', 'orientation', 'pets']\n",
    "model_df = profiles_df[model_columns]\n",
    "model_df.shape"
   ]
  },
  {
   "cell_type": "markdown",
   "metadata": {},
   "source": [
    "The exploration stage showed that many columns in the dataset have null values. \n",
    "The missing values for the columns selected for the model are displayed below. "
   ]
  },
  {
   "cell_type": "code",
   "execution_count": 52,
   "metadata": {},
   "outputs": [
    {
     "data": {
      "text/plain": [
       "sign_simpl     11056\n",
       "body_type       5296\n",
       "diet_simpl     24395\n",
       "drinks          2985\n",
       "smokes          5512\n",
       "job             8198\n",
       "orientation        0\n",
       "pets           19921\n",
       "dtype: int64"
      ]
     },
     "execution_count": 52,
     "metadata": {},
     "output_type": "execute_result"
    }
   ],
   "source": [
    "model_df.isna().sum()"
   ]
  },
  {
   "cell_type": "code",
   "execution_count": 53,
   "metadata": {},
   "outputs": [
    {
     "data": {
      "text/html": [
       "<div>\n",
       "<style scoped>\n",
       "    .dataframe tbody tr th:only-of-type {\n",
       "        vertical-align: middle;\n",
       "    }\n",
       "\n",
       "    .dataframe tbody tr th {\n",
       "        vertical-align: top;\n",
       "    }\n",
       "\n",
       "    .dataframe thead th {\n",
       "        text-align: right;\n",
       "    }\n",
       "</style>\n",
       "<table border=\"1\" class=\"dataframe\">\n",
       "  <thead>\n",
       "    <tr style=\"text-align: right;\">\n",
       "      <th></th>\n",
       "      <th>sign_simpl</th>\n",
       "      <th>body_type</th>\n",
       "      <th>diet_simpl</th>\n",
       "      <th>drinks</th>\n",
       "      <th>smokes</th>\n",
       "      <th>job</th>\n",
       "      <th>orientation</th>\n",
       "      <th>pets</th>\n",
       "    </tr>\n",
       "  </thead>\n",
       "  <tbody>\n",
       "    <tr>\n",
       "      <th>0</th>\n",
       "      <td>gemini</td>\n",
       "      <td>a little extra</td>\n",
       "      <td>anything</td>\n",
       "      <td>socially</td>\n",
       "      <td>sometimes</td>\n",
       "      <td>transportation</td>\n",
       "      <td>straight</td>\n",
       "      <td>likes dogs and likes cats</td>\n",
       "    </tr>\n",
       "    <tr>\n",
       "      <th>1</th>\n",
       "      <td>cancer</td>\n",
       "      <td>average</td>\n",
       "      <td>other</td>\n",
       "      <td>often</td>\n",
       "      <td>no</td>\n",
       "      <td>hospitality / travel</td>\n",
       "      <td>straight</td>\n",
       "      <td>likes dogs and likes cats</td>\n",
       "    </tr>\n",
       "    <tr>\n",
       "      <th>3</th>\n",
       "      <td>pisces</td>\n",
       "      <td>thin</td>\n",
       "      <td>vegetarian</td>\n",
       "      <td>socially</td>\n",
       "      <td>no</td>\n",
       "      <td>student</td>\n",
       "      <td>straight</td>\n",
       "      <td>likes cats</td>\n",
       "    </tr>\n",
       "    <tr>\n",
       "      <th>5</th>\n",
       "      <td>taurus</td>\n",
       "      <td>average</td>\n",
       "      <td>anything</td>\n",
       "      <td>socially</td>\n",
       "      <td>no</td>\n",
       "      <td>computer / hardware / software</td>\n",
       "      <td>straight</td>\n",
       "      <td>likes cats</td>\n",
       "    </tr>\n",
       "    <tr>\n",
       "      <th>7</th>\n",
       "      <td>sagittarius</td>\n",
       "      <td>average</td>\n",
       "      <td>anything</td>\n",
       "      <td>socially</td>\n",
       "      <td>no</td>\n",
       "      <td>artistic / musical / writer</td>\n",
       "      <td>straight</td>\n",
       "      <td>likes dogs and likes cats</td>\n",
       "    </tr>\n",
       "  </tbody>\n",
       "</table>\n",
       "</div>"
      ],
      "text/plain": [
       "    sign_simpl       body_type  diet_simpl    drinks     smokes  \\\n",
       "0       gemini  a little extra    anything  socially  sometimes   \n",
       "1       cancer         average       other     often         no   \n",
       "3       pisces            thin  vegetarian  socially         no   \n",
       "5       taurus         average    anything  socially         no   \n",
       "7  sagittarius         average    anything  socially         no   \n",
       "\n",
       "                              job orientation                       pets  \n",
       "0                  transportation    straight  likes dogs and likes cats  \n",
       "1            hospitality / travel    straight  likes dogs and likes cats  \n",
       "3                         student    straight                 likes cats  \n",
       "5  computer / hardware / software    straight                 likes cats  \n",
       "7     artistic / musical / writer    straight  likes dogs and likes cats  "
      ]
     },
     "execution_count": 53,
     "metadata": {},
     "output_type": "execute_result"
    }
   ],
   "source": [
    "model_df = model_df.dropna()\n",
    "model_df.head()"
   ]
  },
  {
   "cell_type": "code",
   "execution_count": 54,
   "metadata": {},
   "outputs": [
    {
     "data": {
      "text/plain": [
       "(19620, 8)"
      ]
     },
     "execution_count": 54,
     "metadata": {},
     "output_type": "execute_result"
    }
   ],
   "source": [
    "model_df.shape"
   ]
  },
  {
   "cell_type": "code",
   "execution_count": 55,
   "metadata": {},
   "outputs": [
    {
     "name": "stdout",
     "output_type": "stream",
     "text": [
      "The final model dataset contains 19620 rows and 8 columns.\n"
     ]
    }
   ],
   "source": [
    "print(f'The final model dataset contains {model_df.shape[0]} rows and {model_df.shape[-1]} columns.')"
   ]
  },
  {
   "cell_type": "markdown",
   "metadata": {},
   "source": [
    "Despite a loss of data, the rows with missing values have been removed from the model dataset. The resulting number of rows still seems to be enough to train the model and test its predictions. "
   ]
  },
  {
   "cell_type": "markdown",
   "metadata": {},
   "source": [
    "#### Creating dummies for categorical variables"
   ]
  },
  {
   "cell_type": "code",
   "execution_count": 56,
   "metadata": {},
   "outputs": [],
   "source": [
    "for column in model_columns[1:]:\n",
    "    model_df = pd.get_dummies(model_df, columns = [column], prefix = [column])"
   ]
  },
  {
   "cell_type": "code",
   "execution_count": 57,
   "metadata": {},
   "outputs": [
    {
     "data": {
      "text/plain": [
       "(19620, 69)"
      ]
     },
     "execution_count": 57,
     "metadata": {},
     "output_type": "execute_result"
    }
   ],
   "source": [
    "model_df.shape"
   ]
  },
  {
   "cell_type": "code",
   "execution_count": 58,
   "metadata": {},
   "outputs": [
    {
     "data": {
      "text/html": [
       "<div>\n",
       "<style scoped>\n",
       "    .dataframe tbody tr th:only-of-type {\n",
       "        vertical-align: middle;\n",
       "    }\n",
       "\n",
       "    .dataframe tbody tr th {\n",
       "        vertical-align: top;\n",
       "    }\n",
       "\n",
       "    .dataframe thead th {\n",
       "        text-align: right;\n",
       "    }\n",
       "</style>\n",
       "<table border=\"1\" class=\"dataframe\">\n",
       "  <thead>\n",
       "    <tr style=\"text-align: right;\">\n",
       "      <th></th>\n",
       "      <th>sign_simpl</th>\n",
       "      <th>body_type_a little extra</th>\n",
       "      <th>body_type_athletic</th>\n",
       "      <th>body_type_average</th>\n",
       "      <th>body_type_curvy</th>\n",
       "      <th>body_type_fit</th>\n",
       "      <th>body_type_full figured</th>\n",
       "      <th>body_type_jacked</th>\n",
       "      <th>body_type_overweight</th>\n",
       "      <th>body_type_rather not say</th>\n",
       "      <th>...</th>\n",
       "      <th>pets_has cats</th>\n",
       "      <th>pets_has dogs</th>\n",
       "      <th>pets_has dogs and dislikes cats</th>\n",
       "      <th>pets_has dogs and has cats</th>\n",
       "      <th>pets_has dogs and likes cats</th>\n",
       "      <th>pets_likes cats</th>\n",
       "      <th>pets_likes dogs</th>\n",
       "      <th>pets_likes dogs and dislikes cats</th>\n",
       "      <th>pets_likes dogs and has cats</th>\n",
       "      <th>pets_likes dogs and likes cats</th>\n",
       "    </tr>\n",
       "  </thead>\n",
       "  <tbody>\n",
       "    <tr>\n",
       "      <th>0</th>\n",
       "      <td>gemini</td>\n",
       "      <td>1</td>\n",
       "      <td>0</td>\n",
       "      <td>0</td>\n",
       "      <td>0</td>\n",
       "      <td>0</td>\n",
       "      <td>0</td>\n",
       "      <td>0</td>\n",
       "      <td>0</td>\n",
       "      <td>0</td>\n",
       "      <td>...</td>\n",
       "      <td>0</td>\n",
       "      <td>0</td>\n",
       "      <td>0</td>\n",
       "      <td>0</td>\n",
       "      <td>0</td>\n",
       "      <td>0</td>\n",
       "      <td>0</td>\n",
       "      <td>0</td>\n",
       "      <td>0</td>\n",
       "      <td>1</td>\n",
       "    </tr>\n",
       "    <tr>\n",
       "      <th>1</th>\n",
       "      <td>cancer</td>\n",
       "      <td>0</td>\n",
       "      <td>0</td>\n",
       "      <td>1</td>\n",
       "      <td>0</td>\n",
       "      <td>0</td>\n",
       "      <td>0</td>\n",
       "      <td>0</td>\n",
       "      <td>0</td>\n",
       "      <td>0</td>\n",
       "      <td>...</td>\n",
       "      <td>0</td>\n",
       "      <td>0</td>\n",
       "      <td>0</td>\n",
       "      <td>0</td>\n",
       "      <td>0</td>\n",
       "      <td>0</td>\n",
       "      <td>0</td>\n",
       "      <td>0</td>\n",
       "      <td>0</td>\n",
       "      <td>1</td>\n",
       "    </tr>\n",
       "    <tr>\n",
       "      <th>3</th>\n",
       "      <td>pisces</td>\n",
       "      <td>0</td>\n",
       "      <td>0</td>\n",
       "      <td>0</td>\n",
       "      <td>0</td>\n",
       "      <td>0</td>\n",
       "      <td>0</td>\n",
       "      <td>0</td>\n",
       "      <td>0</td>\n",
       "      <td>0</td>\n",
       "      <td>...</td>\n",
       "      <td>0</td>\n",
       "      <td>0</td>\n",
       "      <td>0</td>\n",
       "      <td>0</td>\n",
       "      <td>0</td>\n",
       "      <td>1</td>\n",
       "      <td>0</td>\n",
       "      <td>0</td>\n",
       "      <td>0</td>\n",
       "      <td>0</td>\n",
       "    </tr>\n",
       "    <tr>\n",
       "      <th>5</th>\n",
       "      <td>taurus</td>\n",
       "      <td>0</td>\n",
       "      <td>0</td>\n",
       "      <td>1</td>\n",
       "      <td>0</td>\n",
       "      <td>0</td>\n",
       "      <td>0</td>\n",
       "      <td>0</td>\n",
       "      <td>0</td>\n",
       "      <td>0</td>\n",
       "      <td>...</td>\n",
       "      <td>0</td>\n",
       "      <td>0</td>\n",
       "      <td>0</td>\n",
       "      <td>0</td>\n",
       "      <td>0</td>\n",
       "      <td>1</td>\n",
       "      <td>0</td>\n",
       "      <td>0</td>\n",
       "      <td>0</td>\n",
       "      <td>0</td>\n",
       "    </tr>\n",
       "    <tr>\n",
       "      <th>7</th>\n",
       "      <td>sagittarius</td>\n",
       "      <td>0</td>\n",
       "      <td>0</td>\n",
       "      <td>1</td>\n",
       "      <td>0</td>\n",
       "      <td>0</td>\n",
       "      <td>0</td>\n",
       "      <td>0</td>\n",
       "      <td>0</td>\n",
       "      <td>0</td>\n",
       "      <td>...</td>\n",
       "      <td>0</td>\n",
       "      <td>0</td>\n",
       "      <td>0</td>\n",
       "      <td>0</td>\n",
       "      <td>0</td>\n",
       "      <td>0</td>\n",
       "      <td>0</td>\n",
       "      <td>0</td>\n",
       "      <td>0</td>\n",
       "      <td>1</td>\n",
       "    </tr>\n",
       "  </tbody>\n",
       "</table>\n",
       "<p>5 rows × 69 columns</p>\n",
       "</div>"
      ],
      "text/plain": [
       "    sign_simpl  body_type_a little extra  body_type_athletic  \\\n",
       "0       gemini                         1                   0   \n",
       "1       cancer                         0                   0   \n",
       "3       pisces                         0                   0   \n",
       "5       taurus                         0                   0   \n",
       "7  sagittarius                         0                   0   \n",
       "\n",
       "   body_type_average  body_type_curvy  body_type_fit  body_type_full figured  \\\n",
       "0                  0                0              0                       0   \n",
       "1                  1                0              0                       0   \n",
       "3                  0                0              0                       0   \n",
       "5                  1                0              0                       0   \n",
       "7                  1                0              0                       0   \n",
       "\n",
       "   body_type_jacked  body_type_overweight  body_type_rather not say  ...  \\\n",
       "0                 0                     0                         0  ...   \n",
       "1                 0                     0                         0  ...   \n",
       "3                 0                     0                         0  ...   \n",
       "5                 0                     0                         0  ...   \n",
       "7                 0                     0                         0  ...   \n",
       "\n",
       "   pets_has cats  pets_has dogs  pets_has dogs and dislikes cats  \\\n",
       "0              0              0                                0   \n",
       "1              0              0                                0   \n",
       "3              0              0                                0   \n",
       "5              0              0                                0   \n",
       "7              0              0                                0   \n",
       "\n",
       "   pets_has dogs and has cats  pets_has dogs and likes cats  pets_likes cats  \\\n",
       "0                           0                             0                0   \n",
       "1                           0                             0                0   \n",
       "3                           0                             0                1   \n",
       "5                           0                             0                1   \n",
       "7                           0                             0                0   \n",
       "\n",
       "   pets_likes dogs  pets_likes dogs and dislikes cats  \\\n",
       "0                0                                  0   \n",
       "1                0                                  0   \n",
       "3                0                                  0   \n",
       "5                0                                  0   \n",
       "7                0                                  0   \n",
       "\n",
       "   pets_likes dogs and has cats  pets_likes dogs and likes cats  \n",
       "0                             0                               1  \n",
       "1                             0                               1  \n",
       "3                             0                               0  \n",
       "5                             0                               0  \n",
       "7                             0                               1  \n",
       "\n",
       "[5 rows x 69 columns]"
      ]
     },
     "execution_count": 58,
     "metadata": {},
     "output_type": "execute_result"
    }
   ],
   "source": [
    "model_df.head()"
   ]
  },
  {
   "cell_type": "markdown",
   "metadata": {},
   "source": [
    "#### Splitting the data into training and testing data"
   ]
  },
  {
   "cell_type": "code",
   "execution_count": 59,
   "metadata": {},
   "outputs": [],
   "source": [
    "from sklearn.model_selection import train_test_split \n",
    "\n",
    "column_length = len(model_df.columns)\n",
    "\n",
    "x = model_df.iloc[:, 1:column_length]\n",
    "y = model_df.iloc[:, 0:1]\n",
    "\n",
    "\n",
    "x_train, x_test, y_train, y_test = train_test_split(x, y, train_size = 0.8, test_size=0.2, random_state = 1)\n",
    "\n",
    "# Turning target outputs into 1D NumPy arrays\n",
    "y_train = y_train.to_numpy().ravel()\n",
    "y_test = y_test.to_numpy().ravel()\n"
   ]
  },
  {
   "cell_type": "code",
   "execution_count": 60,
   "metadata": {},
   "outputs": [
    {
     "name": "stdout",
     "output_type": "stream",
     "text": [
      "(15696, 68)\n",
      "(3924, 68)\n",
      "(15696,)\n",
      "(3924,)\n"
     ]
    }
   ],
   "source": [
    "# Checking the resulting data shapes\n",
    "print(x_train.shape)\n",
    "print(x_test.shape)\n",
    "print(y_train.shape)\n",
    "print(y_test.shape)"
   ]
  },
  {
   "cell_type": "markdown",
   "metadata": {},
   "source": [
    "The test data will be fit to two selected common algorithms: K-Nearest Neighbour and Decision Tree Classifier. Both models will be tested and their accuracy (and other 'reliability' scores) will be compared."
   ]
  },
  {
   "cell_type": "markdown",
   "metadata": {},
   "source": [
    "### K-Nearest Neighbour Model"
   ]
  },
  {
   "cell_type": "code",
   "execution_count": 61,
   "metadata": {},
   "outputs": [
    {
     "name": "stdout",
     "output_type": "stream",
     "text": [
      "              precision    recall  f1-score   support\n",
      "\n",
      "    aquarius       0.22      0.56      0.31      1200\n",
      "       aries       0.21      0.43      0.28      1264\n",
      "      cancer       0.24      0.35      0.28      1364\n",
      "   capricorn       0.27      0.29      0.28      1149\n",
      "      gemini       0.29      0.26      0.27      1406\n",
      "         leo       0.36      0.25      0.29      1433\n",
      "       libra       0.32      0.20      0.24      1289\n",
      "      pisces       0.34      0.20      0.25      1272\n",
      " sagittarius       0.32      0.19      0.23      1247\n",
      "     scorpio       0.30      0.19      0.24      1316\n",
      "      taurus       0.34      0.19      0.25      1333\n",
      "       virgo       0.36      0.19      0.25      1423\n",
      "\n",
      "    accuracy                           0.27     15696\n",
      "   macro avg       0.30      0.27      0.27     15696\n",
      "weighted avg       0.30      0.27      0.27     15696\n",
      "\n"
     ]
    }
   ],
   "source": [
    "from sklearn.neighbors import KNeighborsClassifier\n",
    "from sklearn.metrics import accuracy_score, recall_score, precision_score, f1_score\n",
    "from sklearn.metrics import classification_report\n",
    "\n",
    "knc_model = KNeighborsClassifier(n_neighbors = 5).fit(x_train, y_train)\n",
    "y_knc_predict = knc_model.predict(x_train)\n",
    "\n",
    "print(classification_report(y_train, y_knc_predict))"
   ]
  },
  {
   "cell_type": "markdown",
   "metadata": {},
   "source": [
    "### Decision Tree"
   ]
  },
  {
   "cell_type": "code",
   "execution_count": 62,
   "metadata": {},
   "outputs": [
    {
     "name": "stdout",
     "output_type": "stream",
     "text": [
      "              precision    recall  f1-score   support\n",
      "\n",
      "    aquarius       0.46      0.72      0.56      1200\n",
      "       aries       0.46      0.68      0.55      1264\n",
      "      cancer       0.47      0.65      0.55      1364\n",
      "   capricorn       0.57      0.60      0.58      1149\n",
      "      gemini       0.57      0.57      0.57      1406\n",
      "         leo       0.57      0.56      0.56      1433\n",
      "       libra       0.66      0.50      0.57      1289\n",
      "      pisces       0.53      0.53      0.53      1272\n",
      " sagittarius       0.64      0.49      0.55      1247\n",
      "     scorpio       0.66      0.42      0.51      1316\n",
      "      taurus       0.72      0.47      0.57      1333\n",
      "       virgo       0.62      0.47      0.53      1423\n",
      "\n",
      "    accuracy                           0.55     15696\n",
      "   macro avg       0.58      0.56      0.55     15696\n",
      "weighted avg       0.58      0.55      0.55     15696\n",
      "\n"
     ]
    }
   ],
   "source": [
    "from sklearn.tree import DecisionTreeClassifier\n",
    "from sklearn.metrics import confusion_matrix \n",
    "\n",
    "dtc_model = DecisionTreeClassifier().fit(x_train, y_train) \n",
    "y_dtc_predict = dtc_model.predict(x_train) \n",
    "\n",
    "print(classification_report(y_train, y_dtc_predict))"
   ]
  },
  {
   "cell_type": "code",
   "execution_count": 63,
   "metadata": {},
   "outputs": [],
   "source": [
    "dtc_matrix = confusion_matrix(y_train, y_dtc_predict)\n",
    "dtc_labels = dtc_model.classes_"
   ]
  },
  {
   "cell_type": "code",
   "execution_count": 64,
   "metadata": {},
   "outputs": [
    {
     "data": {
      "image/png": "[encoded data removed]",
      "text/plain": [
       "<Figure size 864x648 with 2 Axes>"
      ]
     },
     "metadata": {
      "needs_background": "light"
     },
     "output_type": "display_data"
    }
   ],
   "source": [
    "plt.figure(figsize=(12,9))\n",
    "\n",
    "ax = plt.subplot()\n",
    "sns.heatmap(dtc_matrix, annot=True, ax = ax, fmt = 'd');\n",
    "\n",
    "ax.set_xlabel('Predicted labels');\n",
    "ax.set_ylabel('Real labels'); \n",
    "ax.set_title('Decision Tree Classifier - Confusion Matrix');\n",
    "ax.yaxis.set_tick_params(rotation = 360)\n",
    "ax.xaxis.set_tick_params(rotation = 90)\n",
    "\n",
    "ax.xaxis.set_ticklabels(dtc_labels); \n",
    "ax.yaxis.set_ticklabels(dtc_labels);"
   ]
  },
  {
   "cell_type": "markdown",
   "metadata": {},
   "source": [
    "The default maximum depth of the decision tree is set to 'none' meaning that the tree nodes will continue expanding until all leaves are pure. To check if the model could generalize to a different dataset, the depth of the model will be checked."
   ]
  },
  {
   "cell_type": "code",
   "execution_count": 65,
   "metadata": {},
   "outputs": [
    {
     "data": {
      "text/plain": [
       "52"
      ]
     },
     "execution_count": 65,
     "metadata": {},
     "output_type": "execute_result"
    }
   ],
   "source": [
    "dtc_model.get_depth()"
   ]
  },
  {
   "cell_type": "markdown",
   "metadata": {},
   "source": [
    "The depth of 52 branches indicates that the problem of overfitting - the model relies too heavily on the training data.\n",
    "For this reason, another version of the model will be created - this time with the maximum depth reduced to 25."
   ]
  },
  {
   "cell_type": "code",
   "execution_count": 66,
   "metadata": {},
   "outputs": [
    {
     "name": "stdout",
     "output_type": "stream",
     "text": [
      "              precision    recall  f1-score   support\n",
      "\n",
      "    aquarius       0.51      0.34      0.41      1200\n",
      "       aries       0.35      0.41      0.38      1264\n",
      "      cancer       0.33      0.40      0.36      1364\n",
      "   capricorn       0.49      0.33      0.40      1149\n",
      "      gemini       0.24      0.44      0.31      1406\n",
      "         leo       0.39      0.36      0.37      1433\n",
      "       libra       0.48      0.30      0.37      1289\n",
      "      pisces       0.39      0.32      0.35      1272\n",
      " sagittarius       0.54      0.27      0.36      1247\n",
      "     scorpio       0.56      0.24      0.33      1316\n",
      "      taurus       0.47      0.30      0.37      1333\n",
      "       virgo       0.20      0.46      0.28      1423\n",
      "\n",
      "    accuracy                           0.35     15696\n",
      "   macro avg       0.41      0.35      0.36     15696\n",
      "weighted avg       0.41      0.35      0.36     15696\n",
      "\n"
     ]
    }
   ],
   "source": [
    "dtc_model_25 = DecisionTreeClassifier(max_depth = 25).fit(x_train, y_train) \n",
    "y_dtc_predict_25 = dtc_model_25.predict(x_train) \n",
    "\n",
    "print(classification_report(y_train, y_dtc_predict_25))"
   ]
  },
  {
   "cell_type": "markdown",
   "metadata": {},
   "source": [
    "After reducing the maximum depth the accuracy of the model has dropped below 50% and is exactly 35%, which is still a slightly better result than in the case of the KNN model. "
   ]
  },
  {
   "cell_type": "markdown",
   "metadata": {},
   "source": [
    "## Conclusion and Future Work"
   ]
  },
  {
   "cell_type": "markdown",
   "metadata": {},
   "source": [
    "In this project, two ML machine learning models were created to try to predict astrological signs of a dating app users who didn't provide that information. Two common algorithms were implemented: KNearestNeighbours and Decision Tree Classifier and then compared in terms of their accuracy, precision, recall and f1 score.\n",
    "\n",
    "As we can see from the classification reports, the accuracy and the 'efectiveness' score are quite low. The highest scores were achieved with the Decision Tree Classifier without restricting the maximum depth. This model, however, overfits the data, which means it could not generalize on the other dataset.\n",
    "\n",
    "The next steps would be to work on the selection of parameters and checking if the models could score higher in terms of accuracy and other measures of effectiveness. This can be confirmed by the fact that an attempt at creating a logistic regression model with the current parameters resulted in no convergence. Also, other ML algorithms could be used to check if it is possible to predict the astrological signs of users more effectively."
   ]
  }
 ],
 "metadata": {
  "kernelspec": {
   "display_name": "Python 3 (ipykernel)",
   "language": "python",
   "name": "python3"
  },
  "language_info": {
   "codemirror_mode": {
    "name": "ipython",
    "version": 3
   },
   "file_extension": ".py",
   "mimetype": "text/x-python",
   "name": "python",
   "nbconvert_exporter": "python",
   "pygments_lexer": "ipython3",
   "version": "3.9.7"
  }
 },
 "nbformat": 4,
 "nbformat_minor": 4
}
